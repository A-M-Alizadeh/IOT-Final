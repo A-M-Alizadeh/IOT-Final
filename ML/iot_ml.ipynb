{
 "cells": [
  {
   "cell_type": "code",
   "execution_count": 54,
   "id": "9fdcd329",
   "metadata": {},
   "outputs": [
    {
     "data": {
      "text/plain": [
       "['condition_recommender.joblib']"
      ]
     },
     "execution_count": 54,
     "metadata": {},
     "output_type": "execute_result"
    }
   ],
   "source": [
    "import pandas as pd\n",
    "from sklearn.model_selection import train_test_split\n",
    "from sklearn.neighbors import KNeighborsClassifier\n",
    "import joblib\n",
    "\n",
    "df = pd.read_csv('MLData.csv')\n",
    "X = df.drop(columns=['goalTemp','goalHumid','userDecision'])\n",
    "Y = df[['goalTemp','goalHumid','userDecision']]\n",
    "\n",
    "X_train, X_test, y_train, y_test = train_test_split(X, Y, test_size=0.33)\n",
    "X_train = X_train.values\n",
    "X_test = X_test.values\n",
    "y_train = y_train.values\n",
    "y_test = y_test.values\n",
    "\n",
    "knn = KNeighborsClassifier(n_neighbors=3)\n",
    "classifier = MultiOutputClassifier(knn, n_jobs=-1)\n",
    "model = classifier.fit(X_train,y_train)\n",
    "\n",
    "joblib.dump(model, 'condition_recommender.joblib')\n",
    "\n",
    "# y_predicted =model.predict(X_test)\n",
    "\n",
    "# scores = model.score(X_test, y_test)\n",
    "# print(y_predicted)\n",
    "# print(scores)"
   ]
  }
 ],
 "metadata": {
  "kernelspec": {
   "display_name": "Python 3 (ipykernel)",
   "language": "python",
   "name": "python3"
  },
  "language_info": {
   "codemirror_mode": {
    "name": "ipython",
    "version": 3
   },
   "file_extension": ".py",
   "mimetype": "text/x-python",
   "name": "python",
   "nbconvert_exporter": "python",
   "pygments_lexer": "ipython3",
   "version": "3.9.13"
  }
 },
 "nbformat": 4,
 "nbformat_minor": 5
}
